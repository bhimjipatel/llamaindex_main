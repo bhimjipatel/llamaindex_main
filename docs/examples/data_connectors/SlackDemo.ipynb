{
 "cells": [
  {
   "attachments": {},
   "cell_type": "markdown",
   "id": "40fd5c65",
   "metadata": {},
   "source": [
    "<a href=\"https://colab.research.google.com/github/run-llama/llama_index/blob/main/docs/examples/data_connectors/SlackDemo.ipynb\" target=\"_parent\"><img src=\"https://colab.research.google.com/assets/colab-badge.svg\" alt=\"Open In Colab\"/></a>"
   ]
  },
  {
   "cell_type": "markdown",
   "id": "effeb5a7-8544-4ee4-8c11-bad0d8165394",
   "metadata": {},
   "source": [
    "# Slack Reader\n",
    "Demonstrates our Slack data connector\n",
    "\n",
    "Requires a Slack Bot. \n",
    "Here's a manafest that can be used to create the bot in your slack workspace\n",
    "\n",
    "```yml\n",
    "_metadata:\n",
    "  major_version: 1\n",
    "  minor_version: 1\n",
    "display_information:\n",
    "  name: Slack Reader Bot\n",
    "  description: This bot will index channels for purposes of AI queries\n",
    "features:\n",
    "  bot_user:\n",
    "    display_name: Slack Reader Bot\n",
    "    always_online: true\n",
    "oauth_config:\n",
    "  scopes:\n",
    "    bot:\n",
    "      - channels:history\n",
    "      - channels:read\n",
    "      - groups:history\n",
    "      - groups:read\n",
    "      - im:history\n",
    "      - im:read\n",
    "settings:\n",
    "  org_deploy_enabled: false\n",
    "  socket_mode_enabled: false\n",
    "  token_rotation_enabled: false\n",
    "```"
   ]
  },
  {
   "attachments": {},
   "cell_type": "markdown",
   "id": "c19b997a",
   "metadata": {},
   "source": [
    "If you're opening this Notebook on colab, you will probably need to install LlamaIndex 🦙."
   ]
  },
  {
   "cell_type": "code",
   "execution_count": null,
   "id": "222d4bce",
   "metadata": {},
   "outputs": [],
   "source": [
    "# venv required because conflicts with default Colab libraries\n",
    "! apt install python3.10-venv\n",
    "! python -m venv env\n",
    "! source env/bin/activate\n",
    "! pip install llama-index\n",
    "! pip install slack-sdk\n",
    "# and restart notebook."
   ]
  },
  {
   "cell_type": "code",
   "execution_count": null,
   "id": "dc664882",
   "metadata": {},
   "outputs": [],
   "source": [
    "import logging\n",
    "import sys\n",
    "import os\n",
    "\n",
    "logging.basicConfig(stream=sys.stdout, level=logging.INFO)\n",
    "logging.getLogger().addHandler(logging.StreamHandler(stream=sys.stdout))\n",
    "\n",
    "os.environ[\"SLACK_BOT_TOKEN\"] = \"xoxb-\"\n",
    "\n",
    "import openai\n",
    "\n",
    "openai.api_key = \"sk-\"  # OpenAI API key"
   ]
  },
  {
   "cell_type": "code",
   "execution_count": null,
   "id": "6ea1f66d-10ed-4417-bdcb-f8a894836ea5",
   "metadata": {},
   "outputs": [],
   "source": [
    "from llama_index import SummaryIndex\n",
    "from llama_index.readers.slack import SlackReader\n",
    "from IPython.display import Markdown, display"
   ]
  },
  {
   "cell_type": "code",
   "execution_count": null,
   "id": "da90589a-fb44-4ec6-9706-753dba4fa968",
   "metadata": {},
   "outputs": [],
   "source": [
    "slack_token = os.getenv(\"SLACK_BOT_TOKEN\")\n",
    "channel_ids = [\n",
    "    \"<channel_id>\"\n",
    "]  # Find this in the URL of the channel; Right-click : Copy : Copy Link\n",
    "documents = SlackReader(slack_token=slack_token).load_data(\n",
    "    channel_ids=channel_ids\n",
    ")"
   ]
  },
  {
   "cell_type": "code",
   "execution_count": null,
   "id": "341295df-2029-4728-ab3d-2ee178a7e6f1",
   "metadata": {},
   "outputs": [],
   "source": [
    "index = SummaryIndex.from_documents(documents)"
   ]
  },
  {
   "cell_type": "code",
   "execution_count": null,
   "id": "01c26b9d-49ec-4a6e-9c61-5c06bb86bbb2",
   "metadata": {},
   "outputs": [],
   "source": [
    "# set Logging to DEBUG for more detailed outputs\n",
    "query_engine = index.as_query_engine()\n",
    "response = query_engine.query(\"<query_text>\")"
   ]
  },
  {
   "cell_type": "code",
   "execution_count": null,
   "id": "f160c678-2fb5-4d6d-b2bc-87abb61cfdec",
   "metadata": {},
   "outputs": [],
   "source": [
    "display(Markdown(f\"<b>{response}</b>\"))"
   ]
  }
 ],
 "metadata": {
  "kernelspec": {
   "display_name": "Python 3 (ipykernel)",
   "language": "python",
   "name": "python3"
  },
  "language_info": {
   "codemirror_mode": {
    "name": "ipython",
    "version": 3
   },
   "file_extension": ".py",
   "mimetype": "text/x-python",
   "name": "python",
   "nbconvert_exporter": "python",
   "pygments_lexer": "ipython3"
  }
 },
 "nbformat": 4,
 "nbformat_minor": 5
}
